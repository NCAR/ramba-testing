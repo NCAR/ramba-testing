{
 "cells": [
  {
   "cell_type": "code",
   "execution_count": 2,
   "id": "b6fad49f",
   "metadata": {},
   "outputs": [],
   "source": [
    "import ramba\n",
    "import xarray\n",
    "import pandas as pd\n",
    "size = (100, 100, 36, 1827)\n"
   ]
  },
  {
   "cell_type": "code",
   "execution_count": 3,
   "id": "38fae202",
   "metadata": {},
   "outputs": [],
   "source": [
    "# group by day of the year\n",
    "day_data = ramba.ones(size)\n",
    "da = xarray.DataArray(day_data, coords={\"time\":pd.date_range(\"1/1/2000\", \"31/12/2004\", freq=\"D\")}, dims=(\"x\", \"y\", \"z\", \"time\"))\n",
    "coords = da.coords[\"time\"].values\n",
    "coord_days = ramba.array([pd.Timestamp(x).dayofyear - 1 for x in coords])\n",
    "gb = da.data.groupby(3, coord_days, num_groups=366)\n",
    "gbmean = gb.mean()\n",
    "da.data = gb - gbmean"
   ]
  },
  {
   "cell_type": "code",
   "execution_count": 4,
   "id": "d14745e2",
   "metadata": {},
   "outputs": [],
   "source": [
    "# group by quarter of the year\n",
    "season_data = ramba.ones(size)\n",
    "sda = xarray.DataArray(season_data, coords={\"time\":pd.date_range(\"1/1/2000\", \"31/12/2004\", freq=\"D\")}, dims=(\"x\", \"y\", \"z\", \"time\"))\n",
    "coords = sda.coords[\"time\"].values\n",
    "coord_days = ramba.array([(pd.Timestamp(x).dayofyear - 1) // 92 for x in coords])\n",
    "gb = sda.data.groupby(3, coord_days, num_groups=4)\n",
    "gbmean = gb.mean()\n",
    "sda.data = gb - gbmean"
   ]
  },
  {
   "cell_type": "code",
   "execution_count": null,
   "id": "17529ced",
   "metadata": {},
   "outputs": [],
   "source": []
  }
 ],
 "metadata": {
  "kernelspec": {
   "display_name": "Python 3 (ipykernel)",
   "language": "python",
   "name": "python3"
  },
  "language_info": {
   "codemirror_mode": {
    "name": "ipython",
    "version": 3
   },
   "file_extension": ".py",
   "mimetype": "text/x-python",
   "name": "python",
   "nbconvert_exporter": "python",
   "pygments_lexer": "ipython3",
   "version": "3.7.9"
  }
 },
 "nbformat": 4,
 "nbformat_minor": 5
}
